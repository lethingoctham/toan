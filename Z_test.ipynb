{
 "cells": [
  {
   "cell_type": "code",
   "execution_count": 1,
   "metadata": {},
   "outputs": [],
   "source": [
    "import numpy as np\n",
    "import pandas as pd\n",
    "from matplotlib import pyplot as plt\n",
    "from scipy import stats, interpolate\n",
    "import seaborn as sns\n",
    "import statsmodels.api as sm\n",
    "%matplotlib inline\n",
    "plt.rcParams['figure.figsize'] = [16, 9]\n",
    "plt.rcParams['figure.dpi'] = 100\n",
    "plt.rcParams.update({'font.size': 18})"
   ]
  },
  {
   "cell_type": "code",
   "execution_count": 2,
   "metadata": {
    "colab": {
     "base_uri": "https://localhost:8080/"
    },
    "id": "SUTGE3JamwN9",
    "outputId": "311ff393-d3e9-4657-fe9a-5407451e9264"
   },
   "outputs": [
    {
     "name": "stdout",
     "output_type": "stream",
     "text": [
      "Giá trị tới hạn 2 phía: (-1.9599639845400545, 1.959963984540054)\n",
      "Giá trị tới hạn 1 phía (left): -1.6448536269514729\n",
      "Giá trị tới hạn 1 phía (right): 1.6448536269514722\n"
     ]
    }
   ],
   "source": [
    "# Tính giá trị tới hạn bằng scipy và hàm ppf (hàm ngược của hàm cdf) #\n",
    "from scipy.stats import norm\n",
    "def critical_value(alpha, tail=0):\n",
    "    '''Tính giá trị tới hạn: tail=0:: 2phia; tail=-1:left; tail=1:right'''\n",
    "    if tail == -1: return norm.ppf(alpha)\n",
    "    elif tail == 1: return norm.ppf(1-alpha)\n",
    "    else: return (norm.ppf(alpha/2), norm.ppf(1-alpha/2))\n",
    "\n",
    "alpha = 0.05\n",
    "# tu bang A.2 chon t_* = 1.96\n",
    "# dung ham cdf de tinh gia tri p chinh xac neu t_*=1.96\n",
    "print(f\"Giá trị tới hạn 2 phía: {critical_value(alpha)}\")\n",
    "print(f\"Giá trị tới hạn 1 phía (left): {critical_value(alpha, tail=-1)}\")\n",
    "print(f\"Giá trị tới hạn 1 phía (right): {critical_value(alpha, tail=1)}\")\n",
    "# Khi thi ta chấp nhận t_* = 1.96\n",
    "# Trong khi thực hành thì ta không chấp nhận t_*=1.96 mà giá trị thực là t_* = 1.959963984540054"
   ]
  },
  {
   "cell_type": "code",
   "execution_count": 3,
   "metadata": {
    "colab": {
     "base_uri": "https://localhost:8080/",
     "height": 244
    },
    "id": "CmKChGFGmzTd",
    "outputId": "62e7336e-c28f-4cd4-9984-b2fe940784ec"
   },
   "outputs": [
    {
     "data": {
      "text/html": [
       "<div>\n",
       "<style scoped>\n",
       "    .dataframe tbody tr th:only-of-type {\n",
       "        vertical-align: middle;\n",
       "    }\n",
       "\n",
       "    .dataframe tbody tr th {\n",
       "        vertical-align: top;\n",
       "    }\n",
       "\n",
       "    .dataframe thead th {\n",
       "        text-align: right;\n",
       "    }\n",
       "</style>\n",
       "<table border=\"1\" class=\"dataframe\">\n",
       "  <thead>\n",
       "    <tr style=\"text-align: right;\">\n",
       "      <th></th>\n",
       "      <th>Id</th>\n",
       "      <th>MSSubClass</th>\n",
       "      <th>MSZoning</th>\n",
       "      <th>LotFrontage</th>\n",
       "      <th>LotArea</th>\n",
       "      <th>Street</th>\n",
       "      <th>Alley</th>\n",
       "      <th>LotShape</th>\n",
       "      <th>LandContour</th>\n",
       "      <th>Utilities</th>\n",
       "      <th>...</th>\n",
       "      <th>PoolArea</th>\n",
       "      <th>PoolQC</th>\n",
       "      <th>Fence</th>\n",
       "      <th>MiscFeature</th>\n",
       "      <th>MiscVal</th>\n",
       "      <th>MoSold</th>\n",
       "      <th>YrSold</th>\n",
       "      <th>SaleType</th>\n",
       "      <th>SaleCondition</th>\n",
       "      <th>SalePrice</th>\n",
       "    </tr>\n",
       "  </thead>\n",
       "  <tbody>\n",
       "    <tr>\n",
       "      <th>0</th>\n",
       "      <td>1</td>\n",
       "      <td>60</td>\n",
       "      <td>RL</td>\n",
       "      <td>65.0</td>\n",
       "      <td>8450</td>\n",
       "      <td>Pave</td>\n",
       "      <td>NaN</td>\n",
       "      <td>Reg</td>\n",
       "      <td>Lvl</td>\n",
       "      <td>AllPub</td>\n",
       "      <td>...</td>\n",
       "      <td>0</td>\n",
       "      <td>NaN</td>\n",
       "      <td>NaN</td>\n",
       "      <td>NaN</td>\n",
       "      <td>0</td>\n",
       "      <td>2</td>\n",
       "      <td>2008</td>\n",
       "      <td>WD</td>\n",
       "      <td>Normal</td>\n",
       "      <td>208500</td>\n",
       "    </tr>\n",
       "    <tr>\n",
       "      <th>1</th>\n",
       "      <td>2</td>\n",
       "      <td>20</td>\n",
       "      <td>RL</td>\n",
       "      <td>80.0</td>\n",
       "      <td>9600</td>\n",
       "      <td>Pave</td>\n",
       "      <td>NaN</td>\n",
       "      <td>Reg</td>\n",
       "      <td>Lvl</td>\n",
       "      <td>AllPub</td>\n",
       "      <td>...</td>\n",
       "      <td>0</td>\n",
       "      <td>NaN</td>\n",
       "      <td>NaN</td>\n",
       "      <td>NaN</td>\n",
       "      <td>0</td>\n",
       "      <td>5</td>\n",
       "      <td>2007</td>\n",
       "      <td>WD</td>\n",
       "      <td>Normal</td>\n",
       "      <td>181500</td>\n",
       "    </tr>\n",
       "    <tr>\n",
       "      <th>2</th>\n",
       "      <td>3</td>\n",
       "      <td>60</td>\n",
       "      <td>RL</td>\n",
       "      <td>68.0</td>\n",
       "      <td>11250</td>\n",
       "      <td>Pave</td>\n",
       "      <td>NaN</td>\n",
       "      <td>IR1</td>\n",
       "      <td>Lvl</td>\n",
       "      <td>AllPub</td>\n",
       "      <td>...</td>\n",
       "      <td>0</td>\n",
       "      <td>NaN</td>\n",
       "      <td>NaN</td>\n",
       "      <td>NaN</td>\n",
       "      <td>0</td>\n",
       "      <td>9</td>\n",
       "      <td>2008</td>\n",
       "      <td>WD</td>\n",
       "      <td>Normal</td>\n",
       "      <td>223500</td>\n",
       "    </tr>\n",
       "    <tr>\n",
       "      <th>3</th>\n",
       "      <td>4</td>\n",
       "      <td>70</td>\n",
       "      <td>RL</td>\n",
       "      <td>60.0</td>\n",
       "      <td>9550</td>\n",
       "      <td>Pave</td>\n",
       "      <td>NaN</td>\n",
       "      <td>IR1</td>\n",
       "      <td>Lvl</td>\n",
       "      <td>AllPub</td>\n",
       "      <td>...</td>\n",
       "      <td>0</td>\n",
       "      <td>NaN</td>\n",
       "      <td>NaN</td>\n",
       "      <td>NaN</td>\n",
       "      <td>0</td>\n",
       "      <td>2</td>\n",
       "      <td>2006</td>\n",
       "      <td>WD</td>\n",
       "      <td>Abnorml</td>\n",
       "      <td>140000</td>\n",
       "    </tr>\n",
       "    <tr>\n",
       "      <th>4</th>\n",
       "      <td>5</td>\n",
       "      <td>60</td>\n",
       "      <td>RL</td>\n",
       "      <td>84.0</td>\n",
       "      <td>14260</td>\n",
       "      <td>Pave</td>\n",
       "      <td>NaN</td>\n",
       "      <td>IR1</td>\n",
       "      <td>Lvl</td>\n",
       "      <td>AllPub</td>\n",
       "      <td>...</td>\n",
       "      <td>0</td>\n",
       "      <td>NaN</td>\n",
       "      <td>NaN</td>\n",
       "      <td>NaN</td>\n",
       "      <td>0</td>\n",
       "      <td>12</td>\n",
       "      <td>2008</td>\n",
       "      <td>WD</td>\n",
       "      <td>Normal</td>\n",
       "      <td>250000</td>\n",
       "    </tr>\n",
       "  </tbody>\n",
       "</table>\n",
       "<p>5 rows × 81 columns</p>\n",
       "</div>"
      ],
      "text/plain": [
       "   Id  MSSubClass MSZoning  LotFrontage  LotArea Street Alley LotShape  \\\n",
       "0   1          60       RL         65.0     8450   Pave   NaN      Reg   \n",
       "1   2          20       RL         80.0     9600   Pave   NaN      Reg   \n",
       "2   3          60       RL         68.0    11250   Pave   NaN      IR1   \n",
       "3   4          70       RL         60.0     9550   Pave   NaN      IR1   \n",
       "4   5          60       RL         84.0    14260   Pave   NaN      IR1   \n",
       "\n",
       "  LandContour Utilities  ... PoolArea PoolQC Fence MiscFeature MiscVal MoSold  \\\n",
       "0         Lvl    AllPub  ...        0    NaN   NaN         NaN       0      2   \n",
       "1         Lvl    AllPub  ...        0    NaN   NaN         NaN       0      5   \n",
       "2         Lvl    AllPub  ...        0    NaN   NaN         NaN       0      9   \n",
       "3         Lvl    AllPub  ...        0    NaN   NaN         NaN       0      2   \n",
       "4         Lvl    AllPub  ...        0    NaN   NaN         NaN       0     12   \n",
       "\n",
       "  YrSold  SaleType  SaleCondition  SalePrice  \n",
       "0   2008        WD         Normal     208500  \n",
       "1   2007        WD         Normal     181500  \n",
       "2   2008        WD         Normal     223500  \n",
       "3   2006        WD        Abnorml     140000  \n",
       "4   2008        WD         Normal     250000  \n",
       "\n",
       "[5 rows x 81 columns]"
      ]
     },
     "execution_count": 3,
     "metadata": {},
     "output_type": "execute_result"
    }
   ],
   "source": [
    "gia_nha_dat_us = pd.read_csv(\"gia_nha_dat_us.csv\")\n",
    "gia_nha_dat_us.head()"
   ]
  },
  {
   "cell_type": "code",
   "execution_count": 4,
   "metadata": {
    "colab": {
     "base_uri": "https://localhost:8080/",
     "height": 195
    },
    "id": "QFDwWhwBm_IU",
    "outputId": "8a9a78dd-2ea3-42da-ac66-a74f5ee94f08"
   },
   "outputs": [
    {
     "data": {
      "text/html": [
       "<div>\n",
       "<style scoped>\n",
       "    .dataframe tbody tr th:only-of-type {\n",
       "        vertical-align: middle;\n",
       "    }\n",
       "\n",
       "    .dataframe tbody tr th {\n",
       "        vertical-align: top;\n",
       "    }\n",
       "\n",
       "    .dataframe thead th {\n",
       "        text-align: right;\n",
       "    }\n",
       "</style>\n",
       "<table border=\"1\" class=\"dataframe\">\n",
       "  <thead>\n",
       "    <tr style=\"text-align: right;\">\n",
       "      <th></th>\n",
       "      <th>MSSubClass</th>\n",
       "      <th>MSZoning</th>\n",
       "      <th>LotArea</th>\n",
       "      <th>SalePrice</th>\n",
       "    </tr>\n",
       "  </thead>\n",
       "  <tbody>\n",
       "    <tr>\n",
       "      <th>0</th>\n",
       "      <td>60</td>\n",
       "      <td>RL</td>\n",
       "      <td>8450</td>\n",
       "      <td>208500</td>\n",
       "    </tr>\n",
       "    <tr>\n",
       "      <th>1</th>\n",
       "      <td>20</td>\n",
       "      <td>RL</td>\n",
       "      <td>9600</td>\n",
       "      <td>181500</td>\n",
       "    </tr>\n",
       "    <tr>\n",
       "      <th>2</th>\n",
       "      <td>60</td>\n",
       "      <td>RL</td>\n",
       "      <td>11250</td>\n",
       "      <td>223500</td>\n",
       "    </tr>\n",
       "    <tr>\n",
       "      <th>3</th>\n",
       "      <td>70</td>\n",
       "      <td>RL</td>\n",
       "      <td>9550</td>\n",
       "      <td>140000</td>\n",
       "    </tr>\n",
       "    <tr>\n",
       "      <th>4</th>\n",
       "      <td>60</td>\n",
       "      <td>RL</td>\n",
       "      <td>14260</td>\n",
       "      <td>250000</td>\n",
       "    </tr>\n",
       "  </tbody>\n",
       "</table>\n",
       "</div>"
      ],
      "text/plain": [
       "   MSSubClass MSZoning  LotArea  SalePrice\n",
       "0          60       RL     8450     208500\n",
       "1          20       RL     9600     181500\n",
       "2          60       RL    11250     223500\n",
       "3          70       RL     9550     140000\n",
       "4          60       RL    14260     250000"
      ]
     },
     "execution_count": 4,
     "metadata": {},
     "output_type": "execute_result"
    }
   ],
   "source": [
    "df = gia_nha_dat_us[['MSSubClass', 'MSZoning', 'LotArea', 'SalePrice']]\n",
    "df.head()"
   ]
  },
  {
   "cell_type": "code",
   "execution_count": 5,
   "metadata": {
    "colab": {
     "base_uri": "https://localhost:8080/",
     "height": 265
    },
    "id": "2PnpIoPhnA4W",
    "outputId": "1c2dd210-85d3-430f-9847-cbb4ea22b538"
   },
   "outputs": [
    {
     "data": {
      "image/png": "[encoded data removed]",
      "text/plain": [
       "<Figure size 1600x900 with 1 Axes>"
      ]
     },
     "metadata": {
      "needs_background": "light"
     },
     "output_type": "display_data"
    }
   ],
   "source": [
    "# Engineering feature: log transform #\n",
    "data = df['SalePrice']\n",
    "# Sử dụng ln(1+r) ~ r để tránh rate of change #\n",
    "data = np.log1p(data)\n",
    "\n",
    "# Kiem tra data co chuan hay khong?\n",
    "mean = np.mean(data)\n",
    "# ddof=1 :: hiệu chỉnh\n",
    "std = np.std(data, ddof=1)\n",
    "domain = np.linspace(np.min(data), np.max(data))\n",
    "plt.plot(domain, stats.norm.pdf(domain, mean, std))\n",
    "#density=True :: chuẩn hóa dữ liệu về normal\n",
    "plt.hist(data, edgecolor='green', density=True)\n",
    "plt.show()"
   ]
  },
  {
   "cell_type": "code",
   "execution_count": 6,
   "metadata": {
    "colab": {
     "base_uri": "https://localhost:8080/",
     "height": 279
    },
    "id": "JNFW8CWHnCoM",
    "outputId": "b28bb036-aa45-41b6-f87b-b3ed7440bc34"
   },
   "outputs": [
    {
     "data": {
      "image/png": "[encoded data removed]",
      "text/plain": [
       "<Figure size 1600x900 with 1 Axes>"
      ]
     },
     "metadata": {
      "needs_background": "light"
     },
     "output_type": "display_data"
    }
   ],
   "source": [
    "def standadize(data):\n",
    "    mean = np.mean(data)\n",
    "    std = np.std(data)\n",
    "    return (data - mean)/std\n",
    "\n",
    "sm.qqplot(standadize(data), line ='45')\n",
    "plt.show()"
   ]
  },
  {
   "cell_type": "code",
   "execution_count": 7,
   "metadata": {
    "colab": {
     "base_uri": "https://localhost:8080/"
    },
    "id": "-vjrmbRCnVL8",
    "outputId": "910a45b9-ab19-4aa4-985c-bd8c2f4b1ca7"
   },
   "outputs": [
    {
     "name": "stdout",
     "output_type": "stream",
     "text": [
      "11.918397239722838\n"
     ]
    }
   ],
   "source": [
    "my_mean = 150000\n",
    "my_log_mean = np.log1p(my_mean)\n",
    "print(my_log_mean)"
   ]
  },
  {
   "cell_type": "code",
   "execution_count": 8,
   "metadata": {
    "id": "VxTedS9unXrc"
   },
   "outputs": [],
   "source": [
    "def results(p, vals=['mean1', 'mean2'], alpha=0.05):\n",
    "    cols=['score', 'p_value', 'KetLuan']\n",
    "    if p['p_value'] < alpha:\n",
    "           p['KetLuan'] = f\"Chấp nhận H1 với mức ý nghĩa {alpha}\"\n",
    "    if p['p_value'] >= alpha:\n",
    "           p['KetLuan'] = f\"Chấp nhận H0 với mức ý nghĩa {alpha}\"\n",
    "    df = pd.DataFrame(p, index=[''])\n",
    "    if vals: cols = vals + cols\n",
    "    return df[cols]"
   ]
  },
  {
   "cell_type": "code",
   "execution_count": 9,
   "metadata": {
    "id": "3iLXhF9DnYml"
   },
   "outputs": [],
   "source": [
    "# Lay ngau nhien 100 diem du lieu #\n",
    "sample_1 = data.sample(n=100)"
   ]
  },
  {
   "cell_type": "code",
   "execution_count": 10,
   "metadata": {
    "colab": {
     "base_uri": "https://localhost:8080/",
     "height": 94
    },
    "id": "xnNQ3qwynaUU",
    "outputId": "7400e005-e850-48db-a8c1-644f5d0da2af"
   },
   "outputs": [
    {
     "data": {
      "text/html": [
       "<div>\n",
       "<style scoped>\n",
       "    .dataframe tbody tr th:only-of-type {\n",
       "        vertical-align: middle;\n",
       "    }\n",
       "\n",
       "    .dataframe tbody tr th {\n",
       "        vertical-align: top;\n",
       "    }\n",
       "\n",
       "    .dataframe thead th {\n",
       "        text-align: right;\n",
       "    }\n",
       "</style>\n",
       "<table border=\"1\" class=\"dataframe\">\n",
       "  <thead>\n",
       "    <tr style=\"text-align: right;\">\n",
       "      <th></th>\n",
       "      <th>mean1</th>\n",
       "      <th>mean2</th>\n",
       "      <th>score</th>\n",
       "      <th>p_value</th>\n",
       "      <th>KetLuan</th>\n",
       "    </tr>\n",
       "  </thead>\n",
       "  <tbody>\n",
       "    <tr>\n",
       "      <th></th>\n",
       "      <td>12.00131</td>\n",
       "      <td>11.918397</td>\n",
       "      <td>2.007265</td>\n",
       "      <td>0.047447</td>\n",
       "      <td>Chấp nhận H1 với mức ý nghĩa 0.05</td>\n",
       "    </tr>\n",
       "  </tbody>\n",
       "</table>\n",
       "</div>"
      ],
      "text/plain": [
       "     mean1      mean2     score   p_value                            KetLuan\n",
       "  12.00131  11.918397  2.007265  0.047447  Chấp nhận H1 với mức ý nghĩa 0.05"
      ]
     },
     "execution_count": 10,
     "metadata": {},
     "output_type": "execute_result"
    }
   ],
   "source": [
    "#Kiem dinh mean cua sample so voi ky vong mu_0=11.918397239722838\n",
    "# kiem dinh 2 phia: H0: mu = mu_0, H1: mu != mu_0\n",
    "from scipy.stats import ttest_1samp\n",
    "p = {}\n",
    "p['mean1'] = np.mean(sample_1)\n",
    "p['mean2'] = my_log_mean\n",
    "p['score'], p['p_value'] = ttest_1samp(sample_1, my_log_mean)\n",
    "results(p)"
   ]
  },
  {
   "cell_type": "code",
   "execution_count": 11,
   "metadata": {
    "colab": {
     "base_uri": "https://localhost:8080/",
     "height": 77
    },
    "id": "s9bl4No1rst3",
    "outputId": "8ed75ca6-c3c0-4d6a-e06c-2dabfa0f8e72"
   },
   "outputs": [
    {
     "data": {
      "text/html": [
       "<div>\n",
       "<style scoped>\n",
       "    .dataframe tbody tr th:only-of-type {\n",
       "        vertical-align: middle;\n",
       "    }\n",
       "\n",
       "    .dataframe tbody tr th {\n",
       "        vertical-align: top;\n",
       "    }\n",
       "\n",
       "    .dataframe thead th {\n",
       "        text-align: right;\n",
       "    }\n",
       "</style>\n",
       "<table border=\"1\" class=\"dataframe\">\n",
       "  <thead>\n",
       "    <tr style=\"text-align: right;\">\n",
       "      <th></th>\n",
       "      <th>mean1</th>\n",
       "      <th>mean2</th>\n",
       "      <th>score</th>\n",
       "      <th>p_value</th>\n",
       "      <th>KetLuan</th>\n",
       "    </tr>\n",
       "  </thead>\n",
       "  <tbody>\n",
       "    <tr>\n",
       "      <th></th>\n",
       "      <td>12.00131</td>\n",
       "      <td>11.918397</td>\n",
       "      <td>2.007265</td>\n",
       "      <td>0.976276</td>\n",
       "      <td>Chấp nhận H0 với mức ý nghĩa 0.05</td>\n",
       "    </tr>\n",
       "  </tbody>\n",
       "</table>\n",
       "</div>"
      ],
      "text/plain": [
       "     mean1      mean2     score   p_value                            KetLuan\n",
       "  12.00131  11.918397  2.007265  0.976276  Chấp nhận H0 với mức ý nghĩa 0.05"
      ]
     },
     "execution_count": 11,
     "metadata": {},
     "output_type": "execute_result"
    }
   ],
   "source": [
    "# alternative{‘two-sided’, ‘less’, ‘greater’}\n",
    "# kiem dinh ben trai: H0 mu = mu_0, H1: mu < mu_0\n",
    "p = {}\n",
    "p['mean1'] = np.mean(sample_1)\n",
    "p['mean2'] = my_log_mean\n",
    "p['score'], p['p_value'] = ttest_1samp(sample_1, my_log_mean, alternative='less')\n",
    "results(p)"
   ]
  },
  {
   "cell_type": "code",
   "execution_count": 12,
   "metadata": {
    "colab": {
     "base_uri": "https://localhost:8080/",
     "height": 77
    },
    "id": "flQYKeUGs-4e",
    "outputId": "36f1fbb0-811f-4c67-da75-8c03177cffff"
   },
   "outputs": [
    {
     "data": {
      "text/html": [
       "<div>\n",
       "<style scoped>\n",
       "    .dataframe tbody tr th:only-of-type {\n",
       "        vertical-align: middle;\n",
       "    }\n",
       "\n",
       "    .dataframe tbody tr th {\n",
       "        vertical-align: top;\n",
       "    }\n",
       "\n",
       "    .dataframe thead th {\n",
       "        text-align: right;\n",
       "    }\n",
       "</style>\n",
       "<table border=\"1\" class=\"dataframe\">\n",
       "  <thead>\n",
       "    <tr style=\"text-align: right;\">\n",
       "      <th></th>\n",
       "      <th>mean1</th>\n",
       "      <th>mean2</th>\n",
       "      <th>score</th>\n",
       "      <th>p_value</th>\n",
       "      <th>KetLuan</th>\n",
       "    </tr>\n",
       "  </thead>\n",
       "  <tbody>\n",
       "    <tr>\n",
       "      <th></th>\n",
       "      <td>12.00131</td>\n",
       "      <td>11.918397</td>\n",
       "      <td>2.007265</td>\n",
       "      <td>0.023724</td>\n",
       "      <td>Chấp nhận H1 với mức ý nghĩa 0.05</td>\n",
       "    </tr>\n",
       "  </tbody>\n",
       "</table>\n",
       "</div>"
      ],
      "text/plain": [
       "     mean1      mean2     score   p_value                            KetLuan\n",
       "  12.00131  11.918397  2.007265  0.023724  Chấp nhận H1 với mức ý nghĩa 0.05"
      ]
     },
     "execution_count": 12,
     "metadata": {},
     "output_type": "execute_result"
    }
   ],
   "source": [
    "# alternative{‘two-sided’, ‘less’, ‘greater’}\n",
    "# kiem dinh ben phai: H0 mu = mu_0, H1: mu > mu_0\n",
    "p = {}\n",
    "p['mean1'] = np.mean(sample_1)\n",
    "p['mean2'] = my_log_mean\n",
    "p['score'], p['p_value'] = ttest_1samp(sample_1, my_log_mean, alternative='greater')\n",
    "results(p)"
   ]
  },
  {
   "cell_type": "markdown",
   "metadata": {
    "id": "RPQHpzS_77_2"
   },
   "source": [
    "**Chọn giá trị n lớn hơn 100 khác nhau**"
   ]
  },
  {
   "cell_type": "code",
   "execution_count": 13,
   "metadata": {
    "id": "2qUGpHwZ4bYm"
   },
   "outputs": [],
   "source": [
    "so_luong = np.linspace(250, 1400, 7)\n",
    "sample_s = []\n",
    "for n in (so_luong):\n",
    "    n = int(n)\n",
    "    sample_s.append(data.sample(n=n))"
   ]
  },
  {
   "cell_type": "code",
   "execution_count": 14,
   "metadata": {
    "colab": {
     "base_uri": "https://localhost:8080/"
    },
    "id": "UPQEDOPO7RL9",
    "outputId": "f8df682f-c872-4735-96d9-c8fb26df5f1f"
   },
   "outputs": [
    {
     "name": "stdout",
     "output_type": "stream",
     "text": [
      "1342    12.339296\n",
      "847     11.801864\n",
      "1221    11.805603\n",
      "1244    12.345839\n",
      "1154    12.215037\n",
      "          ...    \n",
      "1350    12.206078\n",
      "1050    12.080997\n",
      "305     12.631017\n",
      "899     11.813037\n",
      "11      12.751303\n",
      "Name: SalePrice, Length: 441, dtype: float64\n"
     ]
    }
   ],
   "source": [
    "print(sample_s[1])"
   ]
  },
  {
   "cell_type": "markdown",
   "metadata": {
    "id": "gz7qQZrf-vDm"
   },
   "source": [
    "**Kiểm định 2 phía**: khi mẫu càng lớn thì p_value càng dần tiến đến 1. Kết luận dần tiến về phía chấp nhận H0"
   ]
  },
  {
   "cell_type": "code",
   "execution_count": 15,
   "metadata": {
    "colab": {
     "base_uri": "https://localhost:8080/"
    },
    "id": "-GhfEfNs9nhX",
    "outputId": "5bafc64f-9980-4bab-e73a-61a0dc54d4fd"
   },
   "outputs": [
    {
     "name": "stdout",
     "output_type": "stream",
     "text": [
      " kết quả khi n = 250\n",
      "      mean1      mean2     score   p_value                            KetLuan\n",
      "  12.027274  11.918397  4.567541  0.999996  Chấp nhận H0 với mức ý nghĩa 0.05\n",
      " kết quả khi n = 441\n",
      "      mean1      mean2     score  p_value                            KetLuan\n",
      "  12.015058  11.918397  5.075476      1.0  Chấp nhận H0 với mức ý nghĩa 0.05\n",
      " kết quả khi n = 633\n",
      "      mean1      mean2     score  p_value                            KetLuan\n",
      "  12.012287  11.918397  6.171744      1.0  Chấp nhận H0 với mức ý nghĩa 0.05\n",
      " kết quả khi n = 825\n",
      "      mean1      mean2     score  p_value                            KetLuan\n",
      "  12.027422  11.918397  7.526836      1.0  Chấp nhận H0 với mức ý nghĩa 0.05\n",
      " kết quả khi n = 1016\n",
      "      mean1      mean2     score  p_value                            KetLuan\n",
      "  12.021113  11.918397  8.099907      1.0  Chấp nhận H0 với mức ý nghĩa 0.05\n",
      " kết quả khi n = 1208\n",
      "      mean1      mean2     score  p_value                            KetLuan\n",
      "  12.018868  11.918397  8.719226      1.0  Chấp nhận H0 với mức ý nghĩa 0.05\n",
      " kết quả khi n = 1400\n",
      "      mean1      mean2    score  p_value                            KetLuan\n",
      "  12.018712  11.918397  9.39734      1.0  Chấp nhận H0 với mức ý nghĩa 0.05\n"
     ]
    }
   ],
   "source": [
    "for sample in sample_s:\n",
    "    p = {}\n",
    "    p['mean1'] = np.mean(sample)\n",
    "    p['mean2'] = my_log_mean\n",
    "    p['score'], p['p_value'] = ttest_1samp(sample, my_log_mean, alternative='less')\n",
    "    print(f' kết quả khi n = {len(sample)}')\n",
    "    print(results(p))\n",
    "    "
   ]
  },
  {
   "cell_type": "markdown",
   "metadata": {
    "id": "yNgomj399KuH"
   },
   "source": [
    "**Kiểm định một phía trái**: khi mẫu càng lớn thì p_value càng dần tiến đến 1. Kết luận dần tiến về phía chấp nhận H0"
   ]
  },
  {
   "cell_type": "code",
   "execution_count": 16,
   "metadata": {
    "colab": {
     "base_uri": "https://localhost:8080/"
    },
    "id": "9owjAmW_9Hjs",
    "outputId": "ba3161c9-e920-4804-c3de-9a3a18b9e641"
   },
   "outputs": [
    {
     "name": "stdout",
     "output_type": "stream",
     "text": [
      " kết quả khi n = 250\n",
      "      mean1      mean2     score   p_value                            KetLuan\n",
      "  12.027274  11.918397  4.567541  0.000008  Chấp nhận H1 với mức ý nghĩa 0.05\n",
      " kết quả khi n = 441\n",
      "      mean1      mean2     score       p_value  \\\n",
      "  12.015058  11.918397  5.075476  5.714428e-07   \n",
      "\n",
      "                            KetLuan  \n",
      "  Chấp nhận H1 với mức ý nghĩa 0.05  \n",
      " kết quả khi n = 633\n",
      "      mean1      mean2     score       p_value  \\\n",
      "  12.012287  11.918397  6.171744  1.207262e-09   \n",
      "\n",
      "                            KetLuan  \n",
      "  Chấp nhận H1 với mức ý nghĩa 0.05  \n",
      " kết quả khi n = 825\n",
      "      mean1      mean2     score       p_value  \\\n",
      "  12.027422  11.918397  7.526836  1.363544e-13   \n",
      "\n",
      "                            KetLuan  \n",
      "  Chấp nhận H1 với mức ý nghĩa 0.05  \n",
      " kết quả khi n = 1016\n",
      "      mean1      mean2     score       p_value  \\\n",
      "  12.021113  11.918397  8.099907  1.568182e-15   \n",
      "\n",
      "                            KetLuan  \n",
      "  Chấp nhận H1 với mức ý nghĩa 0.05  \n",
      " kết quả khi n = 1208\n",
      "      mean1      mean2     score       p_value  \\\n",
      "  12.018868  11.918397  8.719226  9.111130e-18   \n",
      "\n",
      "                            KetLuan  \n",
      "  Chấp nhận H1 với mức ý nghĩa 0.05  \n",
      " kết quả khi n = 1400\n",
      "      mean1      mean2    score       p_value  \\\n",
      "  12.018712  11.918397  9.39734  2.197932e-20   \n",
      "\n",
      "                            KetLuan  \n",
      "  Chấp nhận H1 với mức ý nghĩa 0.05  \n"
     ]
    }
   ],
   "source": [
    "for sample in sample_s:\n",
    "    p = {}\n",
    "    p['mean1'] = np.mean(sample)\n",
    "    p['mean2'] = my_log_mean\n",
    "    p['score'], p['p_value'] = ttest_1samp(sample, my_log_mean)\n",
    "    print(f' kết quả khi n = {len(sample)}')\n",
    "    print(results(p))\n"
   ]
  },
  {
   "cell_type": "markdown",
   "metadata": {
    "id": "nJHQ79_s8taV"
   },
   "source": [
    "**Kiểm định một phía phải**: khi mẫu càng lớn thì p_value càng dần tiến về 0. Kết luận dần tiến về phía chấp nhận H1"
   ]
  },
  {
   "cell_type": "code",
   "execution_count": 18,
   "metadata": {
    "colab": {
     "base_uri": "https://localhost:8080/"
    },
    "id": "IzGSLyuKwVUG",
    "outputId": "273eed5b-1bfb-4df7-d380-cd9bbd563e5b"
   },
   "outputs": [
    {
     "name": "stdout",
     "output_type": "stream",
     "text": [
      " kết quả khi n = 250\n",
      "      mean1      mean2     score   p_value                            KetLuan\n",
      "  12.027274  11.918397  4.567541  0.000004  Chấp nhận H1 với mức ý nghĩa 0.05\n",
      " kết quả khi n = 441\n",
      "      mean1      mean2     score       p_value  \\\n",
      "  12.015058  11.918397  5.075476  2.857214e-07   \n",
      "\n",
      "                            KetLuan  \n",
      "  Chấp nhận H1 với mức ý nghĩa 0.05  \n",
      " kết quả khi n = 633\n",
      "      mean1      mean2     score       p_value  \\\n",
      "  12.012287  11.918397  6.171744  6.036309e-10   \n",
      "\n",
      "                            KetLuan  \n",
      "  Chấp nhận H1 với mức ý nghĩa 0.05  \n",
      " kết quả khi n = 825\n",
      "      mean1      mean2     score       p_value  \\\n",
      "  12.027422  11.918397  7.526836  6.817718e-14   \n",
      "\n",
      "                            KetLuan  \n",
      "  Chấp nhận H1 với mức ý nghĩa 0.05  \n",
      " kết quả khi n = 1016\n",
      "      mean1      mean2     score       p_value  \\\n",
      "  12.021113  11.918397  8.099907  7.840909e-16   \n",
      "\n",
      "                            KetLuan  \n",
      "  Chấp nhận H1 với mức ý nghĩa 0.05  \n",
      " kết quả khi n = 1208\n",
      "      mean1      mean2     score       p_value  \\\n",
      "  12.018868  11.918397  8.719226  4.555565e-18   \n",
      "\n",
      "                            KetLuan  \n",
      "  Chấp nhận H1 với mức ý nghĩa 0.05  \n",
      " kết quả khi n = 1400\n",
      "      mean1      mean2    score       p_value  \\\n",
      "  12.018712  11.918397  9.39734  1.098966e-20   \n",
      "\n",
      "                            KetLuan  \n",
      "  Chấp nhận H1 với mức ý nghĩa 0.05  \n"
     ]
    }
   ],
   "source": [
    "for sample in sample_s:\n",
    "    p = {}\n",
    "    p['mean1'] = np.mean(sample)\n",
    "    p['mean2'] = my_log_mean\n",
    "    p['score'], p['p_value'] = ttest_1samp(sample, my_log_mean, alternative='greater')\n",
    "    print(f' kết quả khi n = {len(sample)}')\n",
    "    print(results(p))\n",
    "   "
   ]
  },
  {
   "cell_type": "markdown",
   "metadata": {
    "id": "JirefGzCCLnZ"
   },
   "source": [
    "Nhận thấy để tìm ra được giá trị kỳ vọng **gần với giá trị trung bình của mẫu nhất** (*với mức ý nghĩa 0.05*). Thì giá trị kì vọng đó nên **bằng đúng với trung bình mẫu**."
   ]
  },
  {
   "cell_type": "code",
   "execution_count": 19,
   "metadata": {
    "colab": {
     "base_uri": "https://localhost:8080/"
    },
    "id": "w0acsmoB-1Ik",
    "outputId": "1382b504-06b9-4c87-cf5d-cb5148fde147"
   },
   "outputs": [
    {
     "name": "stdout",
     "output_type": "stream",
     "text": [
      "166786.19543785087\n"
     ]
    }
   ],
   "source": [
    "my_log_mean_2 = 12.024474\n",
    "# suy ra my_mean\n",
    "my_mean_2 =  np.expm1(my_log_mean_2)\n",
    "print(my_mean_2)"
   ]
  },
  {
   "cell_type": "code",
   "execution_count": 20,
   "metadata": {
    "colab": {
     "base_uri": "https://localhost:8080/",
     "height": 77
    },
    "id": "OJ4-4-WE_SL2",
    "outputId": "ca15377b-3fb7-451c-f001-fd3a14257386"
   },
   "outputs": [
    {
     "data": {
      "text/html": [
       "<div>\n",
       "<style scoped>\n",
       "    .dataframe tbody tr th:only-of-type {\n",
       "        vertical-align: middle;\n",
       "    }\n",
       "\n",
       "    .dataframe tbody tr th {\n",
       "        vertical-align: top;\n",
       "    }\n",
       "\n",
       "    .dataframe thead th {\n",
       "        text-align: right;\n",
       "    }\n",
       "</style>\n",
       "<table border=\"1\" class=\"dataframe\">\n",
       "  <thead>\n",
       "    <tr style=\"text-align: right;\">\n",
       "      <th></th>\n",
       "      <th>mean1</th>\n",
       "      <th>mean2</th>\n",
       "      <th>score</th>\n",
       "      <th>p_value</th>\n",
       "      <th>KetLuan</th>\n",
       "    </tr>\n",
       "  </thead>\n",
       "  <tbody>\n",
       "    <tr>\n",
       "      <th></th>\n",
       "      <td>12.018712</td>\n",
       "      <td>12.024474</td>\n",
       "      <td>-0.539809</td>\n",
       "      <td>0.589414</td>\n",
       "      <td>Chấp nhận H0 với mức ý nghĩa 0.05</td>\n",
       "    </tr>\n",
       "  </tbody>\n",
       "</table>\n",
       "</div>"
      ],
      "text/plain": [
       "      mean1      mean2     score   p_value                            KetLuan\n",
       "  12.018712  12.024474 -0.539809  0.589414  Chấp nhận H0 với mức ý nghĩa 0.05"
      ]
     },
     "execution_count": 20,
     "metadata": {},
     "output_type": "execute_result"
    }
   ],
   "source": [
    "p = {}\n",
    "p['mean1'] = np.mean(sample)\n",
    "p['mean2'] = my_log_mean_2\n",
    "p['score'], p['p_value'] = ttest_1samp(sample, my_log_mean_2)\n",
    "results(p)"
   ]
  },
  {
   "cell_type": "code",
   "execution_count": null,
   "metadata": {},
   "outputs": [],
   "source": []
  }
 ],
 "metadata": {
  "colab": {
   "collapsed_sections": [],
   "name": "Z-test_BTVN.ipynb",
   "provenance": []
  },
  "kernelspec": {
   "display_name": "Python 3",
   "language": "python",
   "name": "python3"
  },
  "language_info": {
   "codemirror_mode": {
    "name": "ipython",
    "version": 3
   },
   "file_extension": ".py",
   "mimetype": "text/x-python",
   "name": "python",
   "nbconvert_exporter": "python",
   "pygments_lexer": "ipython3",
   "version": "3.8.8"
  }
 },
 "nbformat": 4,
 "nbformat_minor": 1
}
